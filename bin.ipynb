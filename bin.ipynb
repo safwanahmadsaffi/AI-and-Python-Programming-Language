a=60
b=13
print("a=",bin(a),"\nb=",bin(b)) 
